{
 "cells": [
  {
   "cell_type": "code",
   "execution_count": 37,
   "id": "18add028-1a00-4044-8ca0-6827908cd91a",
   "metadata": {},
   "outputs": [],
   "source": [
    "import requests\n",
    "from bs4 import BeautifulSoup\n",
    "from selenium import webdriver  \n",
    "import time  \n",
    "from selenium.webdriver.common.keys import Keys  \n",
    "from webdriver_manager.chrome import ChromeDriverManager"
   ]
  },
  {
   "cell_type": "code",
   "execution_count": 50,
   "id": "e63f9971-5efb-49fe-8e9a-02a04b0c2c06",
   "metadata": {},
   "outputs": [
    {
     "name": "stdout",
     "output_type": "stream",
     "text": [
      "sample test case started\n"
     ]
    },
    {
     "name": "stderr",
     "output_type": "stream",
     "text": [
      "<ipython-input-50-54cee92b4535>:5: DeprecationWarning: executable_path has been deprecated, please pass in a Service object\n",
      "  driver = webdriver.Chrome(ChromeDriverManager().install(), chrome_options=chrome_options)\n",
      "<ipython-input-50-54cee92b4535>:5: DeprecationWarning: use options instead of chrome_options\n",
      "  driver = webdriver.Chrome(ChromeDriverManager().install(), chrome_options=chrome_options)\n"
     ]
    },
    {
     "name": "stdout",
     "output_type": "stream",
     "text": [
      "<selenium.webdriver.remote.webelement.WebElement (session=\"6d880e6f3f361b5083acc4f4ce5b68cc\", element=\"7b9c7419-b735-4531-a885-991fbc812f6b\")>\n",
      "Searching...\n",
      "https://find.pitt.edu/\n",
      "sample test case successfully completed\n"
     ]
    }
   ],
   "source": [
    "print(\"sample test case started\")  \n",
    "#driver = webdriver.Chrome(\"/Users/natemcdowell/Desktop/chromedriver-2\")  \n",
    "chrome_options = webdriver.ChromeOptions()\n",
    "chrome_options.add_argument(\"--headless\")\n",
    "driver = webdriver.Chrome(ChromeDriverManager().install(), chrome_options=chrome_options)\n",
    "#driver=webdriver.firefox()  \n",
    "#driver=webdriver.ie()  \n",
    "#maximize the window size  \n",
    "driver.maximize_window()  \n",
    "#navigate to the url  \n",
    "driver.get(\"https://find.pitt.edu/\")  \n",
    "#identify the Google search text box and enter the value  \n",
    "#driver.find_element(\"search\").send_keys(\"Nate\")\n",
    "#driver.find_element(\"name\", \"search\").\n",
    "\n",
    "search_box = driver.find_element(\"name\", \"search\")\n",
    "search_box.send_keys('Nate')\n",
    "time.sleep(3)  \n",
    "\n",
    "#click on the Google search button  \n",
    "button = driver.find_element(\"id\",\"btnSearch\")\n",
    "button.send_keys(Keys.ENTER)  \n",
    "\n",
    "# this seems to be working but I just cant get the text w/in the element to output \n",
    "results = driver.find_element(\"id\", \"resultsInfo\")\n",
    "print(results) \n",
    "print(results.text) # this is supposed to output the text but it cant find it\n",
    "\n",
    "print(driver.current_url)\n",
    "time.sleep(10)  \n",
    "#close the browser  \n",
    "driver.close()  \n",
    "print(\"sample test case successfully completed\")  "
   ]
  },
  {
   "cell_type": "code",
   "execution_count": null,
   "id": "ce2883de-7c05-40f3-9554-72cc0e195729",
   "metadata": {},
   "outputs": [],
   "source": []
  }
 ],
 "metadata": {
  "kernelspec": {
   "display_name": "Python 3",
   "language": "python",
   "name": "python3"
  },
  "language_info": {
   "codemirror_mode": {
    "name": "ipython",
    "version": 3
   },
   "file_extension": ".py",
   "mimetype": "text/x-python",
   "name": "python",
   "nbconvert_exporter": "python",
   "pygments_lexer": "ipython3",
   "version": "3.8.8"
  }
 },
 "nbformat": 4,
 "nbformat_minor": 5
}
