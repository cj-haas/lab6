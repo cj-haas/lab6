{
 "cells": [
  {
   "cell_type": "code",
   "execution_count": 2,
   "metadata": {},
   "outputs": [
    {
     "name": "stdin",
     "output_type": "stream",
     "text": [
      "enter your first and last name cj haas\n",
      "enter your department name aka your major math\n"
     ]
    },
    {
     "name": "stdout",
     "output_type": "stream",
     "text": [
      "sample test case started\n",
      "search returned no results\n"
     ]
    }
   ],
   "source": [
    "def do_i_have_a_twin():\n",
    "   \n",
    "    #collects inputs\n",
    "    full_name = input(\"enter your first and last name\").lower()\n",
    "    department = input(\"enter your department name aka your major\").lower()\n",
    "\n",
    "    #convert inputs to strings\n",
    "    full_name = str(full_name)\n",
    "    \n",
    "    #imports trys and exceptions implemented by cj\n",
    "    try:\n",
    "        #imports\n",
    "        import requests\n",
    "        from selenium import webdriver  \n",
    "        import time  \n",
    "        from selenium.webdriver.common.keys import Keys  \n",
    "        from webdriver_manager.chrome import ChromeDriverManager\n",
    "        \n",
    "        inputs_worked(full_name, department)\n",
    "        \n",
    "    except:\n",
    "         \n",
    "        print(\"Hello,\", full_name, \"We know 3 things about you: \\n\\nThe first of course is your name \\nThe second is that your department is\", department)\n",
    "        print(\"And third is that you do not have selenium or webdriver_manager installed on your device, which is required to use this scrapping program\\n\")\n",
    "        print(\"you can install these with pip install in the terminal if desired, if not thank you for visiting our program!\")\n",
    "\n",
    "#function designed by nate  \n",
    "def inputs_worked(full_name, department):\n",
    "    #split string into first and last name\n",
    "    first_name = full_name.split(\" \")[0]\n",
    "    last_name = full_name.split(\" \")[1]\n",
    "    try:\n",
    "        print(\"sample test case started\")  \n",
    "        #virtual chrome driver; must have chrome for it to work\n",
    "        chrome_options = webdriver.ChromeOptions()\n",
    "        chrome_options.add_argument(\"--headless\")\n",
    "        driver = webdriver.Chrome(service=Service(ChromeDriverManager().install()), chrome_options=chrome_options)\n",
    "\n",
    "        #driver = webdriver.Chrome(\"/Users/natemcdowell/Desktop/chromedriver-2\")  \n",
    "\n",
    "        #desired page\n",
    "        driver.get(\"https://directory.andrew.cmu.edu/\")  \n",
    "\n",
    "        #input the name into the search bar\n",
    "        search_box = driver.find_element(\"name\", \"search\")\n",
    "        search_box.send_keys(full_name)\n",
    "        time.sleep(3) \n",
    "\n",
    "        #click the button\n",
    "        button = driver.find_element(\"name\",\"action\")\n",
    "        button.send_keys(Keys.ENTER) \n",
    "\n",
    "        #loops through first names\n",
    "        first_count = 0\n",
    "        for x in driver.find_elements(\"xpath\",\".//tr/td[2]\"):\n",
    "            name = x.text.lower()\n",
    "            if name == first_name:\n",
    "                first_count+=1\n",
    "\n",
    "        #loops through last names\n",
    "        last_count = 0\n",
    "        for x in driver.find_elements(\"xpath\",\".//tr/td[1]\"):\n",
    "            name = x.text.lower()\n",
    "            if name == last_name:\n",
    "                last_count+=1\n",
    "\n",
    "        #loops through departments\n",
    "        dpmt_count = 0\n",
    "        for x in driver.find_elements(\"xpath\",\".//tr/td[4]\"):\n",
    "            dpmt_scrape = x.text.lower()\n",
    "            if dpmt_scrape == department:\n",
    "                dpmt_count += 1\n",
    "\n",
    "\n",
    "\n",
    "        print(\"there are\", first_count,\"people with your first name and\",last_count, \"people with your last name\")\n",
    "        print(\"out of all similar names, first or last, there are\",dpmt_count,\"in your department\")\n",
    "\n",
    "    except:\n",
    "        print(\"search returned no results\")\n",
    "    \n",
    "do_i_have_a_twin()"
   ]
  },
  {
   "cell_type": "code",
   "execution_count": null,
   "metadata": {},
   "outputs": [],
   "source": []
  }
 ],
 "metadata": {
  "kernelspec": {
   "display_name": "Python 3",
   "language": "python",
   "name": "python3"
  },
  "language_info": {
   "codemirror_mode": {
    "name": "ipython",
    "version": 3
   },
   "file_extension": ".py",
   "mimetype": "text/x-python",
   "name": "python",
   "nbconvert_exporter": "python",
   "pygments_lexer": "ipython3",
   "version": "3.8.3"
  }
 },
 "nbformat": 4,
 "nbformat_minor": 5
}
