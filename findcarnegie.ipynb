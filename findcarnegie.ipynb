{
 "cells": [
  {
   "cell_type": "code",
   "execution_count": 44,
   "id": "ce2883de-7c05-40f3-9554-72cc0e195729",
   "metadata": {},
   "outputs": [
    {
     "name": "stdin",
     "output_type": "stream",
     "text": [
      "enter your first and last name Andrew smith \n",
      "enter your department name aka your major math\n"
     ]
    },
    {
     "name": "stdout",
     "output_type": "stream",
     "text": [
      "sample test case started\n"
     ]
    },
    {
     "name": "stderr",
     "output_type": "stream",
     "text": [
      "<ipython-input-44-939d460da830>:25: DeprecationWarning: executable_path has been deprecated, please pass in a Service object\n",
      "  driver = webdriver.Chrome(ChromeDriverManager().install(), chrome_options=chrome_options)\n",
      "<ipython-input-44-939d460da830>:25: DeprecationWarning: use options instead of chrome_options\n",
      "  driver = webdriver.Chrome(ChromeDriverManager().install(), chrome_options=chrome_options)\n"
     ]
    },
    {
     "name": "stdout",
     "output_type": "stream",
     "text": [
      "there are 1 people with your first name and 2 people with your last name\n",
      "out of all similar names, first or last, there are 0 in your department\n"
     ]
    }
   ],
   "source": [
    "def do_i_have_a_twin():\n",
    "   \n",
    "    try:\n",
    "        #imports\n",
    "        import requests\n",
    "        from selenium import webdriver  \n",
    "        import time  \n",
    "        from selenium.webdriver.common.keys import Keys  \n",
    "        from webdriver_manager.chrome import ChromeDriverManager\n",
    "        \n",
    "        full_name = input(\"enter your first and last name\").lower()\n",
    "        department = input(\"enter your department name aka your major\").lower()\n",
    "        \n",
    "        #convert inputs to strings\n",
    "        full_name = str(full_name)\n",
    "        \n",
    "        #split string into first and last name\n",
    "        first_name = full_name.split(\" \")[0]\n",
    "        last_name = full_name.split(\" \")[1]\n",
    "        \n",
    "        print(\"sample test case started\")  \n",
    "        #virtual chrome driver; must have chrome for it to work\n",
    "        chrome_options = webdriver.ChromeOptions()\n",
    "        chrome_options.add_argument(\"--headless\")\n",
    "        driver = webdriver.Chrome(ChromeDriverManager().install(), chrome_options=chrome_options)\n",
    "\n",
    "        #desired page\n",
    "        driver.get(\"https://directory.andrew.cmu.edu/\")  \n",
    "        \n",
    "        #input the name into the search bar\n",
    "        search_box = driver.find_element(\"name\", \"search\")\n",
    "        search_box.send_keys(full_name)\n",
    "        time.sleep(3) \n",
    "        \n",
    "        #click the button\n",
    "        button = driver.find_element(\"name\",\"action\")\n",
    "        button.send_keys(Keys.ENTER) \n",
    "        \n",
    "        #loops through first names\n",
    "        first_count = 0\n",
    "        for x in driver.find_elements(\"xpath\",\".//tr/td[2]\"):\n",
    "            name = x.text.lower()\n",
    "            if name == first_name:\n",
    "                first_count+=1\n",
    "        \n",
    "        #loops through last names\n",
    "        last_count = 0\n",
    "        for x in driver.find_elements(\"xpath\",\".//tr/td[1]\"):\n",
    "            name = x.text.lower()\n",
    "            if name == last_name:\n",
    "                last_count+=1\n",
    "        \n",
    "        #loops through departments\n",
    "        dpmt_count = 0\n",
    "        for x in driver.find_elements(\"xpath\",\".//tr/td[4]\"):\n",
    "            dpmt_scrape = x.text.lower()\n",
    "            if dpmt_scrape == department:\n",
    "                dpmt_count += 1\n",
    "            \n",
    "        \n",
    "        print(\"there are\", first_count,\"people with your first name and\",last_count, \"people with your last name\")\n",
    "        print(\"out of all similar names, first or last, there are\",dpmt_count,\"in your department\")\n",
    "    \n",
    "    except:\n",
    "        print(\"search returned no results\")\n",
    "do_i_have_a_twin()"
   ]
  },
  {
   "cell_type": "code",
   "execution_count": null,
   "id": "a9c2f6b2-b72d-4597-b3bf-f596a912bfaf",
   "metadata": {},
   "outputs": [],
   "source": [
    "\"\""
   ]
  }
 ],
 "metadata": {
  "kernelspec": {
   "display_name": "Python 3",
   "language": "python",
   "name": "python3"
  },
  "language_info": {
   "codemirror_mode": {
    "name": "ipython",
    "version": 3
   },
   "file_extension": ".py",
   "mimetype": "text/x-python",
   "name": "python",
   "nbconvert_exporter": "python",
   "pygments_lexer": "ipython3",
   "version": "3.8.8"
  }
 },
 "nbformat": 4,
 "nbformat_minor": 5
}
