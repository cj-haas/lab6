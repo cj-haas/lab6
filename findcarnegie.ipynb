{
 "cells": [
  {
   "cell_type": "code",
   "execution_count": 1,
   "id": "70263b6a-c9e0-4515-a198-ca9b5129133d",
   "metadata": {},
   "outputs": [
    {
     "name": "stdin",
     "output_type": "stream",
     "text": [
      "enter your first and last name nate mcdowell\n",
      "enter your department name aka your major science\n"
     ]
    },
    {
     "name": "stdout",
     "output_type": "stream",
     "text": [
      "sample test case started\n"
     ]
    },
    {
     "name": "stderr",
     "output_type": "stream",
     "text": [
      "[WDM] - Downloading: 100%|██████████| 8.08M/8.08M [00:00<00:00, 16.6MB/s]\n",
      "<ipython-input-1-7f9839a9e5e6>:26: DeprecationWarning: executable_path has been deprecated, please pass in a Service object\n",
      "  driver = webdriver.Chrome(ChromeDriverManager().install(), chrome_options=chrome_options)\n",
      "<ipython-input-1-7f9839a9e5e6>:26: DeprecationWarning: use options instead of chrome_options\n",
      "  driver = webdriver.Chrome(ChromeDriverManager().install(), chrome_options=chrome_options)\n"
     ]
    },
    {
     "name": "stdout",
     "output_type": "stream",
     "text": [
      "there are 3 people with your first name and 4 people with your last name\n",
      "out of all similar names, first or last, there are 0 in your department\n"
     ]
    }
   ],
   "source": [
    "def do_i_have_a_twin():\n",
    "   \n",
    "    try:\n",
    "        #imports\n",
    "        full_name = input(\"enter your first and last name\").lower()\n",
    "        department = input(\"enter your department name aka your major\").lower()\n",
    "        \n",
    "        import requests\n",
    "        from selenium import webdriver  \n",
    "        import time  \n",
    "        from selenium.webdriver.common.keys import Keys  \n",
    "        from webdriver_manager.chrome import ChromeDriverManager\n",
    "        \n",
    "        \n",
    "        #convert inputs to strings\n",
    "        full_name = str(full_name)\n",
    "        \n",
    "        #split string into first and last name\n",
    "        first_name = full_name.split(\" \")[0]\n",
    "        last_name = full_name.split(\" \")[1]\n",
    "        \n",
    "        print(\"sample test case started\")  \n",
    "        #virtual chrome driver; must have chrome for it to work\n",
    "        chrome_options = webdriver.ChromeOptions()\n",
    "        chrome_options.add_argument(\"--headless\")\n",
    "        driver = webdriver.Chrome(ChromeDriverManager().install(), chrome_options=chrome_options)\n",
    "\n",
    "        #desired page\n",
    "        driver.get(\"https://directory.andrew.cmu.edu/\")  \n",
    "        \n",
    "        #input the name into the search bar\n",
    "        search_box = driver.find_element(\"name\", \"search\")\n",
    "        search_box.send_keys(full_name)\n",
    "        time.sleep(3) \n",
    "        \n",
    "        #click the button\n",
    "        button = driver.find_element(\"name\",\"action\")\n",
    "        button.send_keys(Keys.ENTER) \n",
    "        \n",
    "        #loops through first names\n",
    "        first_count = 0\n",
    "        for x in driver.find_elements(\"xpath\",\".//tr/td[2]\"):\n",
    "            name = x.text.lower()\n",
    "            if name == first_name:\n",
    "                first_count+=1\n",
    "        \n",
    "        #loops through last names\n",
    "        last_count = 0\n",
    "        for x in driver.find_elements(\"xpath\",\".//tr/td[1]\"):\n",
    "            name = x.text.lower()\n",
    "            if name == last_name:\n",
    "                last_count+=1\n",
    "        \n",
    "        #loops through departments\n",
    "        dpmt_count = 0\n",
    "        for x in driver.find_elements(\"xpath\",\".//tr/td[4]\"):\n",
    "            dpmt_scrape = x.text.lower()\n",
    "            if dpmt_scrape == department:\n",
    "                dpmt_count += 1\n",
    "            \n",
    "        \n",
    "        print(\"there are\", first_count,\"people with your first name and\",last_count, \"people with your last name\")\n",
    "        print(\"out of all similar names, first or last, there are\",dpmt_count,\"in your department\")\n",
    "        \n",
    "\n",
    "#imports trys and exceptions implemented by cj\n",
    "    except ModuleNotFoundError as e:\n",
    "        print(\" \")\n",
    "        print(\"Hello,\",full_name,\"! We know 3 things about you: \\n\\nThe first of course is your name \\nThe second is that your department is\", department)\n",
    "        print(\"And third is that you do not have selenium or webdriver_manager installed on your device, which is required to use this scraping program\\n\")\n",
    "        print(\"you can install these with pip install in the terminal if desired, if not thank you for visiting our program!\")\n",
    "    except:\n",
    "        print(\"Search returned no results. What did you do wrong?\")\n",
    "do_i_have_a_twin()"
   ]
  },
  {
   "cell_type": "code",
   "execution_count": null,
   "id": "cc1e84ae-c3b8-4119-9ab9-c975b47c78e0",
   "metadata": {},
   "outputs": [],
   "source": []
  }
 ],
 "metadata": {
  "kernelspec": {
   "display_name": "Python 3",
   "language": "python",
   "name": "python3"
  },
  "language_info": {
   "codemirror_mode": {
    "name": "ipython",
    "version": 3
   },
   "file_extension": ".py",
   "mimetype": "text/x-python",
   "name": "python",
   "nbconvert_exporter": "python",
   "pygments_lexer": "ipython3",
   "version": "3.8.8"
  }
 },
 "nbformat": 4,
 "nbformat_minor": 5
}
